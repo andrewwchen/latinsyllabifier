{
 "cells": [
  {
   "cell_type": "markdown",
   "metadata": {},
   "source": [
    "# Latin Syllabifier Function Testing and Analysis"
   ]
  },
  {
   "cell_type": "code",
   "execution_count": 1,
   "metadata": {},
   "outputs": [],
   "source": [
    "from latinsyllabifier import *"
   ]
  },
  {
   "cell_type": "markdown",
   "metadata": {},
   "source": [
    "## Function Testing\n",
    "### Sounder Function Testing\n",
    "This function divides lines of input (passage) from latin.txt into component vowel/consonant sounds, accounting for many pronunciation phenomena"
   ]
  },
  {
   "cell_type": "code",
   "execution_count": 33,
   "metadata": {},
   "outputs": [
    {
     "name": "stdout",
     "output_type": "stream",
     "text": [
      "<verg. aen. 1.3>\tlitora, multum ille et terris iactatus et alto\n",
      "\n",
      "litora multillet terris iactatus et alto\n",
      "[['c', 'l'], ['v', 'i'], ['c', 't'], ['v', 'o'], ['c', 'r'], ['v', 'a']]\n",
      "[['c', 'm'], ['v', 'u'], ['c', 'l'], ['c', 't'], ['v', 'i'], ['c', 'l'], ['c', 'l'], ['v', 'e'], ['c', 't']]\n",
      "[['c', 't'], ['v', 'e'], ['c', 'r'], ['c', 'r'], ['v', 'i'], ['c', 's']]\n",
      "[['c', 'i'], ['v', 'a'], ['c', 'c'], ['c', 't'], ['v', 'a'], ['c', 't'], ['v', 'u'], ['c', 's']]\n",
      "[['v', 'e'], ['c', 't']]\n",
      "[['v', 'a'], ['c', 'l'], ['c', 't'], ['v', 'o']]\n"
     ]
    }
   ],
   "source": [
    "# Aeneid 1.3 Sounder Test\n",
    "line3 = liner(passage)[2]\n",
    "\n",
    "print(line3)\n",
    "\n",
    "soundsline3 = sounder(line3)\n",
    "print_sounder(soundsline3)"
   ]
  },
  {
   "cell_type": "code",
   "execution_count": 32,
   "metadata": {},
   "outputs": [
    {
     "name": "stdout",
     "output_type": "stream",
     "text": [
      "<verg. aen. 1.64>\tAd quem tum Iuno supplex his vocibus usa est:\n",
      "\n",
      "ad quem tum iuno supplecs his vocibus usast\n",
      "[['v', 'a'], ['c', 'd']]\n",
      "[['c', 'qu'], ['v', 'e'], ['c', 'm']]\n",
      "[['c', 't'], ['v', 'u'], ['c', 'm']]\n",
      "[['c', 'i'], ['v', 'u'], ['c', 'n'], ['v', 'o']]\n",
      "[['c', 's'], ['v', 'u'], ['c', 'p'], ['c', 'pl'], ['v', 'e'], ['c', 'c'], ['c', 's']]\n",
      "[['c', 'h'], ['v', 'i'], ['c', 's']]\n",
      "[['c', 'v'], ['v', 'o'], ['c', 'c'], ['v', 'i'], ['c', 'b'], ['v', 'u'], ['c', 's']]\n",
      "[['v', 'u'], ['c', 's'], ['v', 'a'], ['c', 's'], ['c', 't']]\n"
     ]
    }
   ],
   "source": [
    "# Aeneid 1.64 Sounder Test\n",
    "line64 = liner(passage)[63]\n",
    "\n",
    "print(line64)\n",
    "\n",
    "soundsline64 = sounder(line64)\n",
    "print_sounder(soundsline64)"
   ]
  },
  {
   "cell_type": "markdown",
   "metadata": {},
   "source": [
    "### Syllabifier Function Testing\n",
    "This function builds off of sounder function output, stringing together consonant and vowel sounds into syllables based off of syllabification rules."
   ]
  },
  {
   "cell_type": "code",
   "execution_count": 35,
   "metadata": {},
   "outputs": [
    {
     "name": "stdout",
     "output_type": "stream",
     "text": [
      "<verg. aen. 1.1>\t     Arma virumque cano, Troiae qui primus ab oris\n",
      "<verg. aen. 1.2>\tItaliam, fato profugus, Laviniaque venit\n",
      "<verg. aen. 1.3>\tlitora, multum ille et terris iactatus et alto\n",
      "<verg. aen. 1.4>\tvi superum saevae memorem Iunonis ob iram;\n",
      "<verg. aen. 1.5>\tmulta quoque et bello passus, dum conderet urbem,\n",
      "(1, ['ar', 'ma', 'vi', 'rum', 'que', 'ca', 'no', 'tro', 'iae', 'qui', 'pri', 'mus', 'ab', 'o', 'ris'])\n",
      "(2, ['i', 'ta', 'li', 'am', 'fa', 'to', 'pro', 'fu', 'gus', 'la', 'vi', 'ni', 'a', 'que', 've', 'nit'])\n",
      "(3, ['li', 'to', 'ra', 'mul', 'til', 'let', 'ter', 'ris', 'iac', 'ta', 'tus', 'et', 'al', 'to'])\n",
      "(4, ['vi', 'su', 'pe', 'rum', 'sae', 'vae', 'me', 'mo', 'rem', 'iu', 'no', 'nis', 'ob', 'i', 'ram'])\n",
      "(5, ['mul', 'ta', 'quo', 'quet', 'bel', 'lo', 'pas', 'sus', 'dum', 'con', 'de', 'ret', 'ur', 'bem'])\n"
     ]
    }
   ],
   "source": [
    "# Aeneid 1.1-5 Syllabifier Test\n",
    "list_lister(liner(passage)[:5])\n",
    "list_lister(syllabifier_line_numbers(passage)[:5])"
   ]
  },
  {
   "cell_type": "markdown",
   "metadata": {},
   "source": [
    "## Analysis\n",
    "### Syllabifier Output Syllable Count\n",
    "The following code counts the total number of syllables in the syllabifier output for Aeneid 1"
   ]
  },
  {
   "cell_type": "code",
   "execution_count": 4,
   "metadata": {},
   "outputs": [
    {
     "name": "stdout",
     "output_type": "stream",
     "text": [
      "Total # of Syllables in Aeneid Book 1\n",
      "11057\n"
     ]
    }
   ],
   "source": [
    "syllables = syllabifier(passage)\n",
    "def listOlists_counter(listOlists):\n",
    "    count = 0\n",
    "    for line in listOlists:\n",
    "        count += len(line)\n",
    "    return count\n",
    "print(\"Total # of Syllables in Aeneid Book 1\")\n",
    "print(listOlists_counter(syllables))"
   ]
  },
  {
   "cell_type": "markdown",
   "metadata": {},
   "source": [
    "### Syllabifier Output Unique Syllable Frequencies\n",
    "The following code counts the frequencies of each unique syllable in Aeneid 1"
   ]
  },
  {
   "cell_type": "code",
   "execution_count": 40,
   "metadata": {},
   "outputs": [
    {
     "name": "stdout",
     "output_type": "stream",
     "text": [
      "Syllables and their Occurences in Aeneid Book 1\n",
      "Counter({'a': 292, 're': 277, 'que': 210, 'ta': 163, 'ti': 161, 'li': 153, 'ni': 137, 'te': 130, 'o': 129, 'ne': 119, 'de': 116, 'et': 115, 'di': 115, 'ra': 115, 'ri': 107, 'mi': 104, 'na': 104, 'ma': 103, 'in': 98, 'to': 94, 'si': 94, 'la': 93, 'bus': 90, 'tis': 89, 'vi': 87, 'no': 82, 'se': 82, 'ci': 81, 'tu': 80, 'ae': 79, 'e': 79, 'pe': 77, 've': 73, 'me': 71, 'tur': 69, 'tum': 69, 'tem': 67, 'tus': 67, 'per': 67, 'ter': 66, 'mo': 63, 'i': 62, 'pi': 61, 'do': 60, 'bi': 59, 'ge': 58, 'gi': 57, 'sa': 57, 'ca': 56, 'ce': 55, 'su': 54, 'cum': 52, 'lo': 50, 'nis': 50, 'rum': 49, 'cu': 49, 'qui': 48, 'ar': 47, 'da': 47, 'as': 46, 'pa': 46, 'le': 44, 'ris': 42, 'fa': 42, 'so': 40, 'ro': 39, 'qua': 38, 'po': 38, 'con': 36, 'iu': 36, 'at': 36, 'lis': 35, 'mis': 35, 'ret': 34, 'res': 34, 'quae': 34, 'vo': 33, 'pu': 33, 'co': 33, 'nos': 33, 'nus': 33, 'tes': 33, 'tro': 31, 'men': 31, 'us': 31, 'rat': 31, 'fu': 31, 'dis': 30, 'an': 30, 'pro': 30, 'pri': 30, 'ver': 30, 'ad': 29, 'u': 29, 'os': 29, 'am': 29, 'quo': 29, 'bat': 28, 'va': 27, 'tra': 27, 'bo': 27, 'nu': 27, 'sus': 26, 'fe': 26, 'lae': 25, 'il': 25, 'nec': 25, 'lu': 25, 'ten': 24, 'for': 24, 'gen': 24, 'au': 23, 'tos': 23, 'cae': 23, 'iam': 23, 'pec': 23, 'im': 23, 'tri': 23, 'nam': 23, 'tan': 23, 'vol': 23, 'om': 23, 'ras': 23, 'du': 22, 'ac': 22, 'mus': 22, 'mul': 21, 'dit': 21, 'sum': 21, 'ven': 21, 'fi': 21, 'tit': 21, 'be': 21, 'um': 20, 'ces': 20, 'sae': 20, 'aut': 20, 'num': 20, 'ty': 20, 'sub': 19, 'mu': 19, 'ur': 19, 'tris': 19, 'sit': 19, 'al': 19, 'ecs': 19, 'tas': 19, 'mag': 19, 'rem': 19, 'cor': 18, 'tae': 18, 'lus': 18, 'or': 18, 'vis': 18, 'sis': 18, 'go': 18, 'non': 17, 'is': 17, 'dum': 17, 'hic': 17, 'des': 17, 'un': 17, 'sic': 16, 'bel': 16, 'cit': 16, 'hi': 16, 'reg': 16, 'cur': 15, 'ia': 15, 'prae': 15, 'ran': 15, 'cen': 15, 'ga': 14, 'cet': 14, 'ves': 14, 'ho': 14, 'cer': 14, 'dic': 14, 'fluc': 14, 'lum': 14, 'cir': 14, 'nunc': 14, 'cis': 14, 'quin': 14, 'com': 14, 'lon': 14, 'er': 13, 'ren': 13, 'net': 13, 'mit': 13, 'det': 13, 'nes': 13, 'unt': 13, 'tor': 13, 'rae': 13, 'fo': 13, 'the': 13, 'quam': 12, 'pes': 12, 'ip': 12, 'cri': 12, 'bis': 12, 'gra': 12, 'ru': 12, 'tet': 12, 'nae': 12, 'ab': 12, 'fer': 12, 'teu': 12, 'vit': 12, 'ser': 12, 'bant': 12, 'quos': 11, 'cha': 11, 'cus': 11, 'por': 11, 'ig': 11, 'pos': 11, 'sed': 11, 'cons': 11, 'quis': 11, 'den': 11, 'quet': 11, 'haec': 11, 'bem': 11, 'mum': 11, 'mor': 11, 'sac': 11, 'nem': 10, 'dem': 10, 'pas': 10, 'bit': 10, 'lit': 10, 'ros': 10, 'vas': 10, 'ius': 10, 'ens': 10, 'les': 10, 'ges': 10, 'iac': 10, 'en': 10, 'gens': 10, 'ut': 10, 'tam': 9, 'iae': 9, 'quem': 9, 'lem': 9, 'vos': 9, 'ha': 9, 'es': 9, 'by': 9, 'mos': 9, 'his': 9, 'rit': 9, 'moe': 9, 'quid': 9, 'ba': 9, 'pen': 9, 'flam': 9, 'gis': 9, 'mae': 9, 'par': 8, 'vic': 8, 'git': 8, 'sos': 8, 'post': 8, 'gat': 8, 'fre': 8, 'dat': 8, 'hinc': 8, 'tant': 8, 'ec': 8, 'recs': 8, 'tot': 8, 'pla': 8, 'pon': 8, 'sas': 8, 'lim': 8, 'clas': 8, 'vec': 8, 'das': 8, 'cos': 8, 'pre': 7, 'bes': 7, 'ly': 7, 'ram': 7, 'pli': 7, 'gam': 7, 'rant': 7, 'dunt': 7, 'noc': 7, 'ob': 7, 'io': 7, 'quip': 7, 'nas': 7, 'tec': 7, 'gem': 7, 'nat': 7, 'rus': 7, 'los': 7, 'fac': 7, 'nit': 7, 'set': 7, 'hos': 7, 'pal': 7, 'sem': 7, 'cro': 7, 'mur': 7, 'em': 7, 'it': 7, 'ple': 7, 'cru': 7, 'rent': 6, 'sur': 6, 'tat': 6, 'cla': 6, 'ins': 6, 'nan': 6, 'he': 6, 'cy': 6, 'met': 6, 'ag': 6, 'chil': 6, 'fan': 6, 'dens': 6, 'eu': 6, 'bra': 6, 'dul': 6, 'vin': 6, 'nim': 6, 'cat': 6, 'dae': 6, 'pul': 6, 'fic': 6, 'vir': 6, 'cant': 6, 'sco': 6, 'gu': 6, 'decs': 6, 'rin': 6, 'gres': 6, 'col': 6, 'lin': 6, 'ror': 6, 'mas': 6, 'cem': 6, 'gunt': 6, 'mons': 5, 'clau': 5, 'cre': 5, 'fuit': 5, 'quu': 5, 'tans': 5, 'ger': 5, 'quad': 5, 'quod': 5, 'san': 5, 'car': 5, 'mem': 5, 'est': 5, 'las': 5, 'bu': 5, 'trum': 5, 'puit': 5, 'sol': 5, 'op': 5, 'cris': 5, 'tol': 5, 'lec': 5, 'duc': 5, 'fra': 5, 'tun': 5, 'vae': 5, 'tre': 5, 'tin': 5, 'cel': 5, 'spe': 5, 'sep': 5, 'sunt': 5, 'quor': 5, 'plum': 5, 'mon': 5, 'hoc': 5, 'mam': 5, 'fun': 5, 'sen': 5, 'cunc': 5, 'tha': 5, 'sig': 5, 'pis': 5, 'tens': 5, 'pha': 5, 'cui': 5, 'mer': 4, 'tras': 4, 'sup': 4, 'pup': 4, 'fal': 4, 'lics': 4, 'mac': 4, 'dam': 4, 'oc': 4, 'vom': 4, 'quit': 4, 'fert': 4, 'poe': 4, 'obs': 4, 'tram': 4, 'dig': 4, 'stri': 4, 'phoe': 4, 'pit': 4, 'hec': 4, 'nant': 4, 'bet': 4, 'get': 4, 'ful': 4, 'quun': 4, 'sam': 4, 'lent': 4, 'dar': 4, 'chi': 4, 'suc': 4, 'tar': 4, 'cog': 4, 'thum': 4, 'rens': 4, 'pros': 4, 'vem': 4, 'cin': 4, 'nin': 4, 'troes': 4, 'gus': 4, 'phry': 4, 'cep': 4, 'quar': 4, 'lam': 4, 'aes': 4, 'scep': 4, 'gui': 4, 'vics': 4, 'sil': 4, 'tuit': 4, 'quas': 4, 'cul': 4, 'ef': 4, 'cunt': 4, 'cau': 4, 'quan': 4, 'ber': 4, 'plu': 4, 'man': 4, 'quau': 4, 'clo': 4, 'gre': 4, 'dus': 4, 'cas': 4, 'hunc': 4, 'fas': 4, 'rap': 4, 'bac': 3, 'nul': 3, 'clu': 3, 'trat': 3, 'rup': 3, 'spu': 3, 'gum': 3, 'sy': 3, 'lat': 3, 'iec': 3, 'saep': 3, 'nym': 3, 'rec': 3, 'gin': 3, 'rui': 3, 'haud': 3, 'flu': 3, 'plo': 3, 'sent': 3, 'bor': 3, 'kar': 3, 'rep': 3, 'ant': 3, 'mic': 3, 'put': 3, 'pus': 3, 'scin': 3, 'pars': 3, 'huc': 3, 'gran': 3, 'suit': 3, 'sta': 3, 'coe': 3, 'runt': 3, 'can': 3, 'iun': 3, 'bris': 3, 'lau': 3, 'sin': 3, 'tac': 3, 'ast': 3, 'auc': 3, 'dos': 3, 'fran': 3, 'naum': 3, 'tel': 3, 'pur': 3, 'plecs': 3, 'dent': 3, 'bunt': 3, 'let': 3, 'vet': 3, 'pic': 3, 'plec': 3, 'qual': 3, 'len': 3, 'fes': 3, 'bam': 3, 'trics': 3, 'guis': 3, 'dant': 3, 'bae': 3, 'som': 3, 'sat': 3, 'hu': 3, 'fla': 3, 'my': 3, 'tast': 3, 'quinc': 3, 'rans': 3, 'iup': 3, 'lant': 3, 'nad': 2, 'mel': 2, 'trem': 2, 'tau': 2, 'spem': 2, 'stu': 2, 'til': 2, 'cra': 2, 'sor': 2, 'lecs': 2, 'sun': 2, 'lac': 2, 'sce': 2, 'quab': 2, 'quen': 2, 'luit': 2, 'rac': 2, 'nent': 2, 'quec': 2, 'tros': 2, 'pulch': 2, 'ul': 2, 'dein': 2, 'ben': 2, 'spar': 2, 'rab': 2, 'syr': 2, 'cher': 2, 'praes': 2, 'vat': 2, 'bre': 2, 'sim': 2, 'hor': 2, 'ads': 2, 'fec': 2, 'nunt': 2, 'quim': 2, 'fron': 2, 'lym': 2, 'crum': 2, 'sar': 2, 'ap': 2, 'mens': 2, 'ron': 2, 'mar': 2, 'dlo': 2, 'vam': 2, 'gau': 2, 'cros': 2, 'quic': 2, 'trans': 2, 'lan': 2, 'teg': 2, 'bin': 2, 'tad': 2, 'flo': 2, 'mol': 2, 'nuit': 2, 'stra': 2, 'gri': 2, 'seu': 2, 'trae': 2, 'raut': 2, 'quy': 2, 'bar': 2, 'rut': 2, 'ton': 2, 'chaem': 2, 'pyg': 2, 'sau': 2, 'tho': 2, 'lens': 2, 'vor': 2, 'pel': 2, 'cinc': 2, 'nens': 2, 'sti': 2, 'vens': 2, 'deus': 2, 'adg': 2, 'uncs': 2, 'luis': 2, 'luc': 2, 'spo': 2, 'neus': 2, 'hes': 2, 'gy': 2, 'huic': 2, 'neu': 2, 'cun': 2, 'frus': 2, 'hac': 2, 'deum': 2, 'bli': 2, 'tecs': 2, 'temp': 2, 'has': 2, 'fri': 2, 'pin': 2, 'cent': 2, 'sci': 2, 'pau': 2, 'reis': 2, 'vus': 2, 'nic': 2, 'lans': 2, 'vel': 2, 'scae': 2, 'on': 2, 'vum': 2, 'quecs': 2, 'rau': 2, 'lap': 2, 'mans': 2, 'stre': 2, 'pae': 2, 'min': 2, 'tran': 2, 'dor': 2, 'nig': 2, 'nor': 2, 'bas': 2, 'aus': 2, 'brep': 1, 'veis': 1, 'gae': 1, 'pat': 1, 'flant': 1, 'cap': 1, 'voc': 1, 'best': 1, 'tru': 1, 'manc': 1, 'bla': 1, 'plil': 1, 'ny': 1, 'brae': 1, 'munt': 1, 'ol': 1, 'of': 1, 'ther': 1, 'meus': 1, 'tuc': 1, 'gor': 1, 'suf': 1, 'vac': 1, 'tadg': 1, 'spre': 1, 'haus': 1, 'thur': 1, 'phas': 1, 'foe': 1, 'heus': 1, 'thoe': 1, 'lucs': 1, 'doc': 1, 'thi': 1, 'mec': 1, 'quil': 1, 'oe': 1, 'gad': 1, 'nei': 1, 'phthi': 1, 'trast': 1, 'vunc': 1, 'clam': 1, 'bri': 1, 'val': 1, 'claus': 1, 'red': 1, 'pho': 1, 'pol': 1, 'mics': 1, 'cim': 1, 'hun': 1, 'aem': 1, 'phy': 1, 'id': 1, 'blan': 1, 'pres': 1, 'sast': 1, 'maes': 1, 'flec': 1, 'spes': 1, 'tyrr': 1, 'lyn': 1, 'scyl': 1, 'cam': 1, 'plae': 1, 'cads': 1, 'tuis': 1, 'bro': 1, 'cho': 1, 'pet': 1, 'glo': 1, 'tinc': 1, 'quaut': 1, 'lych': 1, 'dse': 1, 'gur': 1, 'dac': 1, 'ducs': 1, 'gun': 1, 'tins': 1, 'byr': 1, 'threis': 1, 'crem': 1, 'quig': 1, 'lic': 1, 'bru': 1, 'dif': 1, 'stru': 1, 'quop': 1, 'cuit': 1, 'pans': 1, 'trant': 1, 'sanc': 1, 'quon': 1, 'prin': 1, 'vinc': 1, 'nun': 1, 'chaes': 1, 'tret': 1, 'iit': 1, 'vunt': 1, 'nuis': 1, 'pret': 1, 'semp': 1, 'ems': 1, 'vocs': 1, 'har': 1, 'beun': 1, 'rint': 1, 'lur': 1, 'gram': 1, 'hae': 1, 'trocs': 1, 'flic': 1, 'ry': 1, 'vim': 1, 'pum': 1, 'stag': 1, 'sump': 1, 'chus': 1, 'bur': 1, 'ner': 1, 'strin': 1, 'urbs': 1, 'aud': 1, 'trui': 1, 'ian': 1, 'nocs': 1, 'vun': 1, 'proc': 1, 'phum': 1, 'trac': 1, 'rhe': 1, 'sal': 1, 'tres': 1, 'laes': 1, 'trau': 1, 'ster': 1, 'quads': 1, 'nil': 1, 'fit': 1, 'quant': 1, 'ior': 1, 'din': 1, 'moen': 1, 'nep': 1, 'ban': 1, 'cyc': 1, 'rar': 1, 'dim': 1, 'pant': 1, 'dei': 1, 'csan': 1, 'vant': 1, 'stir': 1, 'vecs': 1, 'sop': 1, 'rad': 1, 'spi': 1, 'don': 1, 'scu': 1, 'quag': 1, 'her': 1, 'quest': 1, 'quaec': 1, 'taut': 1, 'dad': 1, 'rid': 1, 'spon': 1, 'sul': 1, 'gast': 1, 'rest': 1, 'quaud': 1, 'hau': 1, 'mad': 1, 'cyn': 1, 'lad': 1, 'mil': 1, 'plau': 1, 'lei': 1, 'pug': 1, 'gro': 1, 'thy': 1, 'arc': 1, 'bum': 1, 'phae': 1, 'fru': 1, 'stat': 1, 'lar': 1, 'vans': 1, 'plis': 1, 'pan': 1, 'nop': 1, 'mes': 1, 'quoc': 1, 'hens': 1, 'iecs': 1, 'clis': 1, 'splen': 1, 'ii': 1, 'cens': 1, 'plen': 1, 'brum': 1, 'ste': 1, 'fon': 1, 'pim': 1, 'tlas': 1, 'tal': 1, 'glae': 1, 'pyn': 1, 'ent': 1, 'ral': 1, 'daec': 1, 'lut': 1, 'vil': 1, 'temst': 1, 'brem': 1, 'lun': 1})\n"
     ]
    }
   ],
   "source": [
    "# Unique Syllables and their Frequencies\n",
    "from collections import Counter\n",
    "def listOlists_combiner(listOlists):\n",
    "    if len(listOlists) == 0:\n",
    "        return []\n",
    "    else:\n",
    "        return listOlists[0] + listOlists_combiner(listOlists[1:])\n",
    "allSyllables = listOlists_combiner(syllables)\n",
    "print(\"Syllables and their Occurences in Aeneid Book 1\")\n",
    "count = Counter(allSyllables)\n",
    "print(count)"
   ]
  },
  {
   "cell_type": "code",
   "execution_count": 41,
   "metadata": {},
   "outputs": [
    {
     "name": "stdout",
     "output_type": "stream",
     "text": [
      "The Unique Syllables of Aeneid Book 1\n",
      "['nad', 'mel', 'trem', 'tau', 'sic', 'brep', 'mons', 'veis', 'spem', 'gae', 'pat', 'rent', 'tam', 'flant', 'mer', 'cor', 'tro', 'cap', 'bac', 'nul', 'quos', 'voc', 'vo', 'best', 'clau', 'stu', 'ga', 'sub', 'tru', 'manc', 'bla', 'cre', 'ma', 'til', 'iae', 'plil', 'clu', 'bel', 'ny', 'quem', 'dis', 'au', 'um', 'ad', 'sus', 'brae', 'nem', 'tos', 'cae', 'sur', 'lem', 'ci', 'trat', 'mu', 'cra', 'ret', 'munt', 'cit', 'vos', 'tat', 'no', 'fuit', 'cla', 'tur', 'ol', 'ins', 'cha', 'of', 'sor', 'an', 'pre', 'ther', 'rup', 'va', 'quu', 'cus', 'lecs', 'cet', 'bes', 'meus', 'ha', 'tuc', 'quam', 'hi', 'du', 'ves', 'tras', 'nan', 'sun', 'tae', 'gor', 'suf', 'sup', 'lac', 'vac', 'tadg', 'ly', 'spre', 'pup', 'spu', 'haus', 'thur', 'phas', 'sce', 'tans', 'foe', 'quab', 'quen', 'por', 'heus', 'ger', 'luit', 'thoe', 'he', 'rac', 'mi', 'lucs', 'doc', 'thi', 'as', 'dem', 'mec', 'ar', 'pi', 'ram', 'fal', 'lics', 'iam', 'mac', 'pu', 'quil', 'pli', 'es', 'quad', 'oe', 'dam', 'co', 'ces', 'ter', 'ten', 'quod', 'oc', 'nent', 'gi', 'quec', 'gad', 'by', 'et', 'tros', 'vom', 'nei', 'phthi', 'trast', 'vunc', 'ig', 'quit', 'gam', 'gum', 'pulch', 'clam', 'bri', 'san', 'fert', 'ul', 'dein', 'val', 'qua', 'sy', 'claus', 'poe', 'ur', 'lat', 'ben', 'lae', 'reg', 'tris', 'red', 'pho', 'iec', 'po', 'car', 'obs', 'pol', 'mics', 'cim', 'pas', 'mem', 'spar', 'rab', 'hun', 'rant', 'pos', 'pes', 'aem', 'sed', 'cy', 'con', 'par', 'saep', 'tram', 'phy', 'vic', 'pec', 'lus', 'nym', 'syr', 'nos', 'id', 'dig', 'il', 'stri', 'blan', 'phoe', 'git', 'pit', 'ip', 'cher', 'pro', 'de', 'dunt', 'cons', 'pres', 'sast', 'maes', 'flec', 'rec', 'gin', 'cri', 'rui', 'hec', 'spes', 'se', 'tyrr', 'noc', 'haud', 'est', 'sos', 'met', 'flu', 'lyn', 'ag', 'scyl', 'chil', 'mul', 'fan', 'er', 'plo', 'cam', 'bis', 'im', 'dens', 'plae', 'cads', 'tuis', 'nant', 'tis', 'bi', 'rum', 'sent', 'praes', 'bro', 'bor', 'bet', 'cho', 'pet', 'get', 'las', 'da', 'glo', 'cur', 'men', 'pa', 'ob', 'tinc', 'kar', 'ful', 'rep', 'bit', 'res', 'ho', 'io', 'non', 'quaut', 'sae', 'vat', 'gra', 'mo', 'quun', 'su', 'bu', 'trum', 'bre', 'ren', 'ant', 'quip', 'mic', 'lych', 'dse', 'gur', 'dac', 'post', 'vi', 'lit', 'puit', 'ducs', 'sim', 'put', 'nas', 'ros', 'sam', 'tum', 'gun', 'pus', 'gat', 'hor', 'sol', 'tins', 'cu', 'net', 'vas', 'ads', 'byr', 'threis', 'tec', 'scin', 'gem', 'crem', 'fec', 'cer', 'nunt', 'quig', 'lic', 'bru', 'op', 'lo', 'pars', 'ac', 'ru', 'lent', 'huc', 'dic', 'dif', 'gran', 'stru', 'i', 'dar', 'do', 'quim', 'quop', 'fron', 'cuit', 'pe', 'lym', 'pans', 'trant', 'mos', 'nat', 'sanc', 'tri', 'suit', 'ca', 'crum', 'sar', 'quon', 'prin', 'vinc', 'sta', 'fluc', 'chi', 'a', 'ap', 'eu', 'la', 'mens', 'nam', 'nun', 'cris', 'suc', 'ron', 'chaes', 'rus', 'ius', 'mar', 'mus', 'me', 'na', 'tet', 'sit', 'ae', 'or', 'tar', 'quis', 'dit', 'fre', 'tol', 'cog', 'thum', 'tret', 'iit', 'ens', 'vunt', 'bra', 'nuis', 'lec', 'dlo', 'den', 'te', 'vam', 'sum', 'gau', 'cros', 'los', 'mit', 'quic', 'trans', 'pret', 'al', 'duc', 'semp', 'rens', 'pros', 'lan', 'dat', 'sa', 'fra', 'vem', 'ems', 'le', 'vocs', 'teg', 'ris', 'coe', 'runt', 'bin', 'har', 'tad', 'ge', 'beun', 'rint', 'lur', 'flo', 'cin', 'tun', 'gram', 'hae', 'trocs', 'o', 'can', 'nin', 'dul', 'pri', 'flic', 'ry', 'vin', 'vim', 'det', 've', 'pum', 'ti', 'stag', 'iun', 'troes', 'tan', 'bris', 'sump', 'hinc', 'iu', 'u', 'at', 'mol', 'nuit', 'di', 'vol', 'ne', 'chus', 'bur', 'ner', 'lau', 'strin', 'nus', 'fac', 'nae', 'urbs', 'les', 'sin', 'aud', 'stra', 'trui', 'vae', 'fa', 'gri', 'ian', 'tre', 'seu', 'his', 'nocs', 'rit', 'quet', 'trae', 'lis', 'ab', 'nim', 'tac', 'vun', 'ast', 'raut', 'auc', 'cat', 'quy', 'bat', 'ges', 'proc', 'nit', 'bar', 'haec', 'rut', 'aut', 'gus', 'phum', 'ven', 'tant', 'phry', 'iac', 'dos', 'nes', 'os', 'cep', 'quar', 'ton', 'dae', 'e', 'lum', 'chaem', 'fran', 'cir', 'pyg', 'en', 'tin', 'trac', 'bem', 'lam', 'ro', 'rhe', 'naum', 'sal', 'ec', 'tres', 'tel', 'sau', 'tho', 'laes', 'ia', 'quae', 'set', 'cel', 'pur', 'lens', 'vor', 'trau', 'ce', 'nunc', 'ster', 'pel', 'quads', 'ver', 'nil', 'hos', 'cinc', 'aes', 'fit', 'quant', 'nens', 'pul', 'ior', 'sti', 'recs', 'plecs', 'dent', 'num', 'is', 'bunt', 'vens', 'prae', 'deus', 'din', 'moen', 'ecs', 'adg', 'nep', 'uncs', 'fer', 'luis', 'ban', 'spe', 'tot', 'cyc', 'pla', 'rar', 'luc', 'dim', 'cum', 'spo', 'to', 'pant', 'fic', 'dei', 'fi', 'tas', 'neus', 'pon', 'teu', 'csan', 'scep', 'hes', 'let', 'vet', 'vant', 'sas', 'moe', 're', 'us', 'stir', 'vecs', 'pic', 'gui', 'sop', 'vir', 'rad', 'spi', 'sep', 'plec', 'qual', 'ri', 'dum', 'cant', 'vics', 'pal', 'mis', 'for', 'hic', 'len', 'sunt', 'mum', 'vit', 'sco', 'ser', 'cis', 'sil', 'lim', 'gy', 'gu', 'don', 'scu', 'quag', 'nec', 'decs', 'her', 'huic', 'ra', 'tuit', 'quas', 'mag', 'neu', 'quor', 'quid', 'des', 'rat', 'quest', 'cun', 'rin', 'quaec', 'plum', 'frus', 'vis', 'mon', 'taut', 'hac', 'unt', 'deum', 'hoc', 'gres', 'mam', 'dad', 'tor', 'col', 'bli', 'tecs', 'gen', 'om', 'rid', 'fes', 'li', 'temp', 'spon', 'sul', 'sem', 'has', 'fun', 'fri', 'rem', 'ba', 'rae', 'gast', 'rest', 'pin', 'quaud', 'cro', 'mor', 'hau', 'tu', 'cent', 'clas', 'sci', 'lin', 'pen', 'pau', 'tes', 'sen', 'tra', 'reis', 'mad', 'cunc', 'cyn', 'quin', 'am', 'lad', 'bam', 'vus', 'cul', 'nic', 'mil', 'plau', 'gens', 'tha', 'lei', 'pug', 'lu', 'ras', 'sig', 'ef', 'flam', 'gro', 'thy', 'vec', 'in', 'tem', 'ni', 'lans', 'arc', 'ut', 'ty', 'trics', 'cunt', 'cau', 'quan', 'pis', 'ta', 'ber', 'vel', 'bum', 'quo', 'guis', 'scae', 'com', 'dant', 'phae', 'bae', 'so', 'fru', 'on', 'plu', 'tus', 'sis', 'stat', 'som', 'vum', 'man', 'lar', 'quau', 'vans', 'quecs', 'sat', 'hu', 'bo', 'rau', 'mur', 'tit', 'plis', 'em', 'pan', 'ror', 'fe', 'lap', 'it', 'ple', 'fo', 'fu', 'nop', 'mas', 'qui', 'mans', 'clo', 'nis', 'gre', 'dus', 'mes', 'quoc', 'cas', 'bus', 'hens', 'iecs', 'clis', 'ran', 'splen', 'stre', 'das', 'ii', 'gis', 'cens', 'fla', 'pae', 'cos', 'min', 'un', 'nu', 'plen', 'mae', 'hunc', 'si', 'be', 'cru', 'tens', 'cen', 'brum', 'ste', 'fon', 'pim', 'tlas', 'cem', 'tal', 'tran', 'glae', 'my', 'dor', 'sac', 'fas', 'gunt', 'pyn', 'que', 'tast', 'ent', 'ral', 'quinc', 'daec', 'lut', 'pha', 'vil', 'rans', 'the', 'temst', 'nig', 'cui', 'brem', 'lun', 'iup', 'lant', 'nor', 'bas', 'per', 'go', 'rap', 'lon', 'bant', 'aus']\n"
     ]
    }
   ],
   "source": [
    "# List of Unique Syllables\n",
    "print(\"The Unique Syllables of Aeneid Book 1\")\n",
    "print(list(count))"
   ]
  },
  {
   "cell_type": "markdown",
   "metadata": {},
   "source": [
    "### Syllabifier Output Error Analysis\n",
    "The following is error analysis of the syllabifier function, based off of a manually syllabifier section of Aeneid 1."
   ]
  },
  {
   "cell_type": "code",
   "execution_count": 42,
   "metadata": {},
   "outputs": [],
   "source": [
    "# Manually syllabified Aeneid 1.1-100\n",
    "manualSyllables = [\n",
    "    ['ar', 'ma', 'vi', 'rum', 'que', 'ca', 'no', 'tro', 'iae', 'qui', 'pri', 'mus', 'ab', 'o', 'ris'],\n",
    "    ['i', 'ta', 'li', 'am', 'fa', 'to', 'pro', 'fu', 'gus', 'la', 'vi', 'ni', 'a', 'que', 've', 'nit'],\n",
    "    ['li', 'to', 'ra', 'mul', 'til', 'let', 'ter', 'ris', 'iac', 'ta', 'tus', 'et', 'al', 'to'],\n",
    "    ['vi', 'su', 'pe', 'rum', 'sae', 'vae', 'me', 'mo', 'rem', 'iu', 'no', 'nis', 'ob', 'i', 'ram'],\n",
    "    ['mul', 'ta', 'quo', 'quet', 'bel', 'lo', 'pas', 'sus', 'dum', 'con', 'de', 'ret', 'ur', 'bem'],\n",
    "    ['in', 'fer', 'ret', 'que', 'de', 'os', 'la', 'ti', 'o', 'ge', 'nus', 'un', 'de', 'la', 'ti', 'num'],\n",
    "    ['al', 'ba', 'ni', 'que', 'pa', 'tres', 'at', 'qual', 'tae', 'moe', 'ni', 'a', 'ro', 'mae'],\n",
    "    ['mu', 'sa', 'mi', 'hi', 'cau', 'sas', 'me', 'mo', 'ra', 'quo', 'nu', 'mi', 'ne', 'lae', 'so'],\n",
    "    ['quid', 've', 'do', 'lens', 're', 'gi', 'na', 'de', 'um', 'tot', 'vol', 've', 're', 'ca', 'sus'],\n",
    "    ['in', 'sig', 'nem', 'pi', 'e', 'ta', 'te', 'vi', 'rum', 'tot', 'a', 'di', 're', 'la', 'bo', 'res'],\n",
    "    ['im', 'pu', 'le', 'rit', 'tan', 'tae', 'na', 'ni', 'mis', 'cae', 'les', 'ti', 'bus', 'i', 'rae'],\n",
    "    ['urbs', 'an', 'ti', 'qua', 'fuit', 'ty', 'ri', 'i', 'te', 'nu', 'e', 're', 'co', 'lo', 'ni'],\n",
    "    ['kar', 'tha', 'gi', 'ta', 'li', 'am', 'con', 'tra', 'ti', 'be', 'ri', 'na', 'que', 'lon', 'ge'],\n",
    "    ['os', 'ti', 'a', 'di', 'ves', 'o', 'pum', 'stu', 'di', 'is', 'quas', 'per', 'ri', 'ma', 'bel', 'li'],\n",
    "    ['quam', 'iu', 'no', 'fer', 'tur', 'ter', 'ris', 'ma', 'gis', 'om', 'ni', 'bus', 'u', 'nam'],\n",
    "    ['post', 'ha', 'bi', 'ta', 'co', 'lu', 'is', 'se', 'sa', 'mo', 'hic', 'il', 'li', 'us', 'ar', 'ma'],\n",
    "    ['hic', 'cur', 'rus', 'fu', 'it', 'hoc', 'reg', 'num', 'de', 'a', 'gen', 'ti', 'bus', 'es', 'se'],\n",
    "    ['si', 'qua', 'fa', 'ta', 'si', 'nant', 'iam', 'tum', 'ten', 'dit', 'que', 'fo', 'vet', 'que'],\n",
    "    ['pro', 'ge', 'ni', 'em', 'sed', 'e', 'nim', 'tro', 'ia', 'na', 'san', 'gui', 'ne', 'du', 'ci'],\n",
    "    ['au', 'di', 'e', 'rat', 'ty', 'ri', 'as', 'o', 'lim', 'quae', 'ver', 'te', 'ret', 'ar', 'ces'],\n",
    "    ['hinc', 'po', 'pu', 'lum', 'la', 'te', 're', 'gem', 'bel', 'lo', 'que', 'su', 'per', 'bum'],\n",
    "    ['ven', 'tu', 'recs', 'ci', 'di', 'o', 'li', 'by', 'ae', 'sic', 'vol', 've', 're', 'par', 'cas'],\n",
    "    ['id', 'me', 'tu', 'ens', 've', 'te', 'ris', 'que', 'me', 'mor', 'sa', 'tur', 'ni', 'a', 'bel', 'li'],\n",
    "    ['pri', 'ma', 'quod', 'ad', 'tro', 'iam', 'pro', 'ca', 'ris', 'ges', 'se', 'rat', 'ar', 'gis'],\n",
    "    ['nec', 'de', 'ti', 'am', 'cau', 'si', 'ra', 'rum', 'sae', 'vi', 'que', 'do', 'lo', 'res'],\n",
    "    ['ecs', 'ci', 'de', 'rant', 'a', 'ni', 'mo', 'ma', 'net', 'al', 'ta', 'men', 'te', 're', 'pos', 'tum'],\n",
    "    ['iu', 'di', 'ci', 'um', 'pa', 'ri', 'dis', 'spre', 'tae', 'qui', 'ni', 'u', 'ri', 'a', 'for', 'mae'],\n",
    "    ['et', 'ge', 'nus', 'in', 'vi', 'set', 'rap', 'ti', 'ga', 'ny', 'me', 'dis', 'ho', 'no', 'res'],\n",
    "    ['his', 'ac', 'cen', 'sa', 'su', 'per', 'iac', 'ta', 'tos', 'ae', 'quo', 're', 'to', 'to'],\n",
    "    ['tro', 'as', 're', 'li', 'qui', 'as', 'da', 'na', 'at', 'quim', 'mi', 'tis', 'ac', 'hil', 'li'],\n",
    "    ['ar', 'ce', 'bat', 'lon', 'ge', 'la', 'ti', 'o', 'mul', 'tos', 'que', 'per', 'an', 'nos'],\n",
    "    ['er', 'ra', 'bant', 'ac', 'ti', 'fa', 'tis', 'ma', 'ri', 'om', 'ni', 'a', 'cir', 'cum'],\n",
    "    ['tan', 'tae', 'mo', 'lis', 'e', 'rat', 'ro', 'ma', 'nam', 'con', 'de', 're', 'gen', 'tem'],\n",
    "    ['vics', 'e', 'cons', 'pec', 'tu', 'si', 'cu', 'lae', 'tel', 'lu', 'ris', 'in', 'al', 'tum'],\n",
    "    ['ve', 'la', 'da', 'bant', 'lae', 'tet', 'spu', 'mas', 'sa', 'lis', 'ae', 're', 'ru', 'e', 'bant'],\n",
    "    ['cum', 'iu', 'nae', 'ter', 'num', 'ser', 'vans', 'sub', 'pec', 'to', 're', 'vol', 'nus'],\n",
    "    ['haec', 'se', 'cum', 'me', 'nin', 'cep', 'to', 'de', 'sis', 'te', 're', 'vic', 'tam'],\n",
    "    ['nec', 'pos', 'si', 'ta', 'li', 'a', 'teu', 'cro', 'ra', 'ver', 'te', 're', 're', 'gem'],\n",
    "    ['quip', 'pe', 've', 'tor', 'fa', 'tis', 'pal', 'las', 'nec', 'su', 're', 're', 'clas', 'sem'],\n",
    "    ['ar', 'gi', 'vat', 'quip', 'sos', 'po', 'tu', 'it', 'sub', 'mer', 'ge', 're', 'pon', 'to'],\n",
    "    ['u', 'ni', 'us', 'ob', 'noc', 'set', 'fu', 'ri', 'as', 'a', 'ia', 'cis', 'o', 'i', 'lei'],\n",
    "    ['ip', 'sa', 'io', 'vis', 'ra', 'pi', 'dum', 'ia', 'cu', 'la', 'te', 'nu', 'bi', 'bus', 'ig', 'nem'],\n",
    "    ['dis', 'ie', 'cit', 'que', 'ra', 'tes', 'e', 'ver', 'tit', 'quae', 'quo', 'ra', 'ven', 'tis'],\n",
    "    ['il', 'lecs', 'pi', 'ran', 'tem', 'trans', 'fic', 'so', 'pec', 'to', 're', 'flam', 'mas'],\n",
    "    ['tur', 'bi', 'ne', 'cor', 'ri', 'pu', 'it', 'sco', 'pu', 'lo', 'quin', 'fic', 'sit', 'a', 'cu', 'to'],\n",
    "    ['ast', 'e', 'go', 'quae', 'di', 'vin', 'ce', 'do', 're', 'gi', 'na', 'io', 'vis', 'que'],\n",
    "    ['et', 'so', 'ror', 'et', 'con', 'iuncs', 'u', 'na', 'cum', 'gen', 'te', 'tot', 'an', 'nos'],\n",
    "    ['bel', 'la', 'ge', 'ret', 'quis', 'quam', 'nu', 'men', 'iu', 'no', 'nis', 'a', 'do', 'ret'],\n",
    "    ['prae', 'te', 're', 'aut', 'sup', 'plecs', 'a', 'ris', 'im', 'po', 'net', 'ho', 'no', 'rem'],\n",
    "    ['ta', 'li', 'a', 'flam', 'ma', 'to', 'se', 'cum', 'de', 'a', 'cor', 'de', 'vo', 'lu', 'tans'],\n",
    "    ['nim', 'bo', 'rin', 'pa', 'tri', 'am', 'lo', 'ca', 'fe', 'ta', 'fu', 'ren', 'ti', 'bus', 'aus', 'tris'],\n",
    "    ['ae', 'o', 'li', 'am', 've', 'nit', 'hic', 'vas', 'to', 'recs', 'ae', 'o', 'lus', 'an', 'tro'],\n",
    "    ['luc', 'tan', 'tes', 'ven', 'tos', 'tem', 'pes', 'ta', 'tes', 'que', 'so', 'no', 'ras'],\n",
    "    ['im', 'pe', 'ri', 'o', 'pre', 'mit', 'ac', 'vin', 'clis', 'et', 'car', 'ce', 're', 'fre', 'nat'],\n",
    "    ['il', 'lin', 'dig', 'nan', 'tes', 'mag', 'no', 'cum', 'mur', 'mu', 're', 'mon', 'tis'],\n",
    "    ['cir', 'cum', 'claus', 'tra', 'fre', 'munt', 'cel', 'sa', 'se', 'det', 'ae', 'o', 'lus', 'ar', 'ce'],\n",
    "    ['scep', 'tra', 'te', 'nens', 'mol', 'lit', 'qua', 'ni', 'mos', 'et', 'tem', 'pe', 'rat', 'i', 'ras'],\n",
    "    ['ni', 'fa', 'ci', 'at', 'ma', 'ri', 'ac', 'ter', 'ras', 'cae', 'lum', 'que', 'pro', 'fun', 'dum'],\n",
    "    ['quip', 'pe', 'fe', 'rant', 'ra', 'pi', 'di', 'se', 'cum', 'ver', 'rant', 'que', 'per', 'au', 'ras'],\n",
    "    ['sed', 'pa', 'ter', 'om', 'ni', 'po', 'tens', 'spe', 'lun', 'cis', 'ab', 'di', 'dit', 'a', 'tris'],\n",
    "    ['hoc', 'me', 'tu', 'ens', 'mo', 'lem', 'quet', 'mon', 'tis', 'in', 'su', 'per', 'al', 'tos'],\n",
    "    ['im', 'po', 'su', 'it', 're', 'gem', 'que', 'de', 'dit', 'qui', 'foe', 'de', 're', 'cer', 'to'],\n",
    "    ['et', 'pre', 'me', 'ret', 'lac', 'sas', 'sci', 'ret', 'da', 're', 'ius', 'sus', 'ha', 'be', 'nas'],\n",
    "    ['ad', 'quem', 'tum', 'iu', 'no', 'sup', 'plecs', 'his', 'vo', 'ci', 'bus', 'u', 'sast'],\n",
    "    ['ae', 'o', 'le', 'nam', 'que', 'ti', 'bi', 'di', 'vom', 'pa', 'ter', 'at', 'quo', 'mi', 'num', 'recs'],\n",
    "    ['et', 'mul', 'ce', 're', 'de', 'dit', 'fluc', 'tus', 'et', 'tol', 'le', 're', 'ven', 'to'],\n",
    "    ['gens', 'i', 'ni', 'mi', 'ca', 'mi', 'hi', 'tyrr', 'he', 'num', 'na', 'vi', 'gat', 'ae', 'quor'],\n",
    "    ['i', 'li', 'in', 'i', 'ta', 'li', 'am', 'por', 'tans', 'vic', 'tos', 'que', 'pe', 'na', 'tes'],\n",
    "    ['in', 'cu', 'te', 'vim', 'ven', 'tis', 'sub', 'mer', 'sas', 'quo', 'bru', 'e', 'pup', 'pes'],\n",
    "    ['aut', 'a', 'ge', 'di', 'ver', 'sos', 'et', 'dis', 'ii', 'ce', 'cor', 'po', 'ra', 'pon', 'to'],\n",
    "    ['sunt', 'mi', 'hi', 'bis', 'sep', 'tem', 'praes', 'tan', 'ti', 'cor', 'po', 're', 'nym', 'phae'],\n",
    "    ['qua', 'rum', 'quae', 'for', 'ma', 'pul', 'cher', 'ri', 'ma', 'de', 'i', 'o', 'pe', 'a'],\n",
    "    ['co', 'nu', 'bio', 'iun', 'gam', 'sta', 'bi', 'li', 'pro', 'pri', 'am', 'que', 'di', 'ca', 'bo'],\n",
    "    ['om', 'nis', 'ut', 'te', 'cum', 'me', 'ri', 'tis', 'pro', 'ta', 'li', 'bus', 'an', 'nos'],\n",
    "    ['ec', 'si', 'gat', 'et', 'pulch', 'ra', 'fa', 'ci', 'at', 'te', 'pro', 'le', 'pa', 'ren', 'tem'],\n",
    "    ['ae', 'o', 'lus', 'haec', 'con', 'tra', 'tu', 'us', 'o', 're', 'gi', 'na', 'quid', 'op', 'tes'],\n",
    "    ['ecs', 'plo', 'ra', 're', 'la', 'bor', 'mi', 'hi', 'ius', 'sa', 'ca', 'pes', 'se', 're', 'fas', 'est'],\n",
    "    ['tu', 'mi', 'hi', 'quod', 'cum', 'quoc', 'reg', 'ni', 'tu', 'scep', 'tra', 'io', 'vem', 'que'],\n",
    "    ['con', 'ci', 'li', 'as', 'tu', 'das', 'e', 'pu', 'lis', 'ac', 'cum', 'be', 're', 'di', 'vom'],\n",
    "    ['nim', 'bo', 'rum', 'que', 'fa', 'cis', 'tem', 'pes', 'ta', 'tum', 'que', 'po', 'ten', 'tem'],\n",
    "    ['haec', 'u', 'bi', 'dic', 'ta', 'ca', 'vum', 'con', 'ver', 'sa', 'cus', 'pi', 'de', 'mon', 'tem'],\n",
    "    ['im', 'pu', 'lit', 'in', 'la', 'tus', 'ac', 'ven', 'ti', 've', 'lut', 'ag', 'mi', 'ne', 'fac', 'to'],\n",
    "    ['qua', 'da', 'ta', 'por', 'ta', 'ru', 'unt', 'et', 'ter', 'ras', 'tur', 'bi', 'ne', 'per', 'flant'],\n",
    "    ['in', 'cu', 'bu', 'e', 're', 'ma', 'ri', 'to', 'tum', 'qua', 'se', 'di', 'bus', 'i', 'mis'],\n",
    "    ['u', 'neu', 'rus', 'que', 'no', 'tus', 'que', 'ru', 'unt', 'cre', 'ber', 'que', 'pro', 'cel', 'lis'],\n",
    "    ['a', 'fri', 'cus', 'et', 'vas', 'tos', 'vol', 'vunt', 'ad', 'li', 'to', 'ra', 'fluc', 'tus'],\n",
    "    ['in', 'se', 'qui', 'tur', 'cla', 'mor', 'que', 'vi', 'rum', 'stri', 'dor', 'que', 'ru', 'den', 'tum'],\n",
    "    ['e', 'ri', 'pi', 'unt', 'su', 'bi', 'to', 'nu', 'bes', 'cae', 'lum', 'que', 'di', 'em', 'que'],\n",
    "    ['teu', 'cro', 'recs', 'o', 'cu', 'lis', 'pon', 'to', 'nocs', 'in', 'cu', 'bat', 'a', 'tra'],\n",
    "    ['in', 'to', 'nu', 'e', 're', 'po', 'let', 'cre', 'bris', 'mi', 'cat', 'ig', 'ni', 'bus', 'ae', 'ther'],\n",
    "    ['prae', 'sen', 'tem', 'que', 'vi', 'ris', 'in', 'ten', 'tant', 'om', 'ni', 'a', 'mor', 'tem'],\n",
    "    ['ecs', 'tem', 'plae', 'ne', 'ae', 'sol', 'vun', 'tur', 'fri', 'go', 're', 'mem', 'bra'],\n",
    "    ['in', 'ge', 'mit', 'et', 'du', 'pli', 'cis', 'ten', 'dens', 'ad', 'si', 'de', 'ra', 'pal', 'mas'],\n",
    "    ['ta', 'li', 'a', 'vo', 'ce', 're', 'fert', 'o', 'ter', 'que', 'qua', 'ter', 'que', 'be', 'a', 'ti'],\n",
    "    ['quis', 'an', 'to', 'ra', 'pa', 'trum', 'tro', 'iae', 'sub', 'moe', 'ni', 'bus', 'al', 'tis'],\n",
    "    ['con', 'ti', 'git', 'op', 'pe', 'te', 'ro', 'da', 'na', 'um', 'for', 'tis', 'si', 'me', 'gen', 'tis'],\n",
    "    ['ty', 'di', 'de', 'me', 'ni', 'li', 'a', 'cis', 'oc', 'cum', 'be', 're', 'cam', 'pis'],\n",
    "    ['non', 'po', 'tu', 'is', 'se', 'tu', 'a', 'qua', 'ni', 'manc', 'ef', 'fun', 'de', 're', 'decs', 'tra'],\n",
    "    ['sae', 'vus', 'u', 'bae', 'a', 'ci', 'dae', 'te', 'lo', 'ia', 'cet', 'hec', 'tor', 'u', 'bin', 'gens'],\n",
    "    ['sar', 'pe', 'don', 'u', 'bi', 'tot', 'si', 'mo', 'is', 'cor', 'rep', 'ta', 'sub', 'un', 'dis']\n",
    "]"
   ]
  },
  {
   "cell_type": "markdown",
   "metadata": {},
   "source": [
    "The following code compares the manually syllabified Aeneid 1.1-100 to a syllabifier function output for Aeneid 1.1-100."
   ]
  },
  {
   "cell_type": "code",
   "execution_count": 43,
   "metadata": {},
   "outputs": [
    {
     "name": "stdout",
     "output_type": "stream",
     "text": [
      "Total True Positive, False Positive, and False Negative Syllables Found by Syllabifier in lines 1-100 of Aeneid 1\n",
      "[1438, 26, 33]\n"
     ]
    }
   ],
   "source": [
    "# Syllabifier Test Error Analysis for Aeneid 1.1-100\n",
    "automaticSyllables = syllabifier(passage)[:100]\n",
    "syllableError = []\n",
    "# [true positive, false positive, false negative]\n",
    "syllableErrors = []\n",
    "# ([false positives], [false negatives])\n",
    "totalTruePositive = 0\n",
    "totalFalsePositive = 0\n",
    "totalFalseNegative = 0\n",
    "for line in range(100):\n",
    "    manualLine = manualSyllables[line]\n",
    "    automaticLine = automaticSyllables[line]\n",
    "    truePositive = []\n",
    "    falseNegative = []\n",
    "    for syl in manualLine:\n",
    "        if syl in automaticLine:\n",
    "            automaticLine.remove(syl)\n",
    "            truePositive.append(syl)\n",
    "        else:\n",
    "            falseNegative.append(syl)\n",
    "    falsePositive = automaticLine\n",
    "    totalTruePositive += len(truePositive)\n",
    "    totalFalsePositive += len(falsePositive)\n",
    "    totalFalseNegative += len(falseNegative)\n",
    "    syllableError.append([len(truePositive), len(falsePositive), len(falseNegative)])\n",
    "    syllableErrors.append((falsePositive, falseNegative))\n",
    "totalSyllableError = [totalTruePositive, totalFalsePositive, totalFalseNegative]\n",
    "print('Total True Positive, False Positive, and False Negative Syllables Found by Syllabifier in lines 1-100 of Aeneid 1')\n",
    "print(totalSyllableError)"
   ]
  },
  {
   "cell_type": "markdown",
   "metadata": {},
   "source": [
    "The following are line-by-line results of the error analysis function [TP, FP, FN]"
   ]
  },
  {
   "cell_type": "code",
   "execution_count": 44,
   "metadata": {},
   "outputs": [
    {
     "name": "stdout",
     "output_type": "stream",
     "text": [
      "[15, 0, 0]\n",
      "[16, 0, 0]\n",
      "[14, 0, 0]\n",
      "[15, 0, 0]\n",
      "[14, 0, 0]\n",
      "[16, 0, 0]\n",
      "[14, 0, 0]\n",
      "[15, 0, 0]\n",
      "[13, 1, 2]\n",
      "[16, 0, 0]\n",
      "[15, 0, 0]\n",
      "[15, 0, 0]\n",
      "[15, 0, 0]\n",
      "[16, 0, 0]\n",
      "[14, 0, 0]\n",
      "[10, 4, 6]\n",
      "[13, 1, 2]\n",
      "[14, 0, 0]\n",
      "[15, 0, 0]\n",
      "[15, 0, 0]\n",
      "[14, 0, 0]\n",
      "[15, 0, 0]\n",
      "[16, 0, 0]\n",
      "[14, 0, 0]\n",
      "[14, 0, 0]\n",
      "[16, 0, 0]\n",
      "[16, 0, 0]\n",
      "[15, 0, 0]\n",
      "[14, 0, 0]\n",
      "[11, 3, 4]\n",
      "[14, 0, 0]\n",
      "[14, 0, 0]\n",
      "[14, 0, 0]\n",
      "[14, 0, 0]\n",
      "[15, 0, 0]\n",
      "[13, 0, 0]\n",
      "[13, 0, 0]\n",
      "[14, 0, 0]\n",
      "[14, 0, 0]\n",
      "[12, 1, 2]\n",
      "[15, 0, 0]\n",
      "[16, 0, 0]\n",
      "[12, 3, 2]\n",
      "[13, 0, 0]\n",
      "[14, 1, 2]\n",
      "[14, 0, 0]\n",
      "[12, 3, 2]\n",
      "[14, 0, 0]\n",
      "[14, 0, 0]\n",
      "[15, 0, 0]\n",
      "[16, 0, 0]\n",
      "[15, 0, 0]\n",
      "[13, 0, 0]\n",
      "[15, 0, 0]\n",
      "[13, 0, 0]\n",
      "[15, 0, 0]\n",
      "[15, 0, 0]\n",
      "[15, 0, 0]\n",
      "[15, 0, 0]\n",
      "[15, 0, 0]\n",
      "[14, 0, 0]\n",
      "[13, 1, 2]\n",
      "[15, 0, 0]\n",
      "[13, 0, 0]\n",
      "[16, 0, 0]\n",
      "[14, 0, 0]\n",
      "[15, 0, 0]\n",
      "[15, 0, 0]\n",
      "[14, 0, 0]\n",
      "[13, 3, 2]\n",
      "[14, 0, 0]\n",
      "[12, 1, 2]\n",
      "[14, 2, 1]\n",
      "[14, 0, 0]\n",
      "[15, 0, 0]\n",
      "[15, 0, 0]\n",
      "[16, 0, 0]\n",
      "[14, 0, 0]\n",
      "[15, 0, 0]\n",
      "[14, 0, 0]\n",
      "[15, 0, 0]\n",
      "[16, 0, 0]\n",
      "[15, 0, 0]\n",
      "[15, 0, 0]\n",
      "[15, 0, 0]\n",
      "[14, 0, 0]\n",
      "[15, 0, 0]\n",
      "[15, 0, 0]\n",
      "[14, 0, 0]\n",
      "[16, 0, 0]\n",
      "[14, 0, 0]\n",
      "[13, 0, 0]\n",
      "[15, 0, 0]\n",
      "[16, 0, 0]\n",
      "[14, 0, 0]\n",
      "[14, 1, 2]\n",
      "[14, 0, 0]\n",
      "[14, 1, 2]\n",
      "[16, 0, 0]\n",
      "[15, 0, 0]\n"
     ]
    }
   ],
   "source": [
    "list_lister(syllableError)"
   ]
  },
  {
   "cell_type": "markdown",
   "metadata": {},
   "source": [
    "The following are line-by-line results of the specific syllables missing from or added to the syllabifier output compared to the manually syllabified portion in the format [FP,FN]"
   ]
  },
  {
   "cell_type": "code",
   "execution_count": 45,
   "metadata": {},
   "outputs": [
    {
     "name": "stdout",
     "output_type": "stream",
     "text": [
      "([], [])\n",
      "([], [])\n",
      "([], [])\n",
      "([], [])\n",
      "([], [])\n",
      "([], [])\n",
      "([], [])\n",
      "([], [])\n",
      "(['deum'], ['de', 'um'])\n",
      "([], [])\n",
      "([], [])\n",
      "([], [])\n",
      "([], [])\n",
      "([], [])\n",
      "([], [])\n",
      "(['pos', 'tha', 'luis', 'mic'], ['post', 'ha', 'lu', 'is', 'mo', 'hic'])\n",
      "(['fuit'], ['fu', 'it'])\n",
      "([], [])\n",
      "([], [])\n",
      "([], [])\n",
      "([], [])\n",
      "([], [])\n",
      "([], [])\n",
      "([], [])\n",
      "([], [])\n",
      "([], [])\n",
      "([], [])\n",
      "([], [])\n",
      "([], [])\n",
      "(['nat', 'a', 'chil'], ['na', 'at', 'ac', 'hil'])\n",
      "([], [])\n",
      "([], [])\n",
      "([], [])\n",
      "([], [])\n",
      "([], [])\n",
      "([], [])\n",
      "([], [])\n",
      "([], [])\n",
      "([], [])\n",
      "(['tuit'], ['tu', 'it'])\n",
      "([], [])\n",
      "([], [])\n",
      "(['di', 'si', 'e'], ['dis', 'ie'])\n",
      "([], [])\n",
      "(['puit'], ['it', 'pu'])\n",
      "([], [])\n",
      "(['co', 'ni', 'uncs'], ['con', 'iuncs'])\n",
      "([], [])\n",
      "([], [])\n",
      "([], [])\n",
      "([], [])\n",
      "([], [])\n",
      "([], [])\n",
      "([], [])\n",
      "([], [])\n",
      "([], [])\n",
      "([], [])\n",
      "([], [])\n",
      "([], [])\n",
      "([], [])\n",
      "([], [])\n",
      "(['suit'], ['su', 'it'])\n",
      "([], [])\n",
      "([], [])\n",
      "([], [])\n",
      "([], [])\n",
      "([], [])\n",
      "([], [])\n",
      "([], [])\n",
      "(['di', 'si', 'i'], ['dis', 'ii'])\n",
      "([], [])\n",
      "(['io'], ['i', 'o'])\n",
      "(['o', 'bi'], ['bio'])\n",
      "([], [])\n",
      "([], [])\n",
      "([], [])\n",
      "([], [])\n",
      "([], [])\n",
      "([], [])\n",
      "([], [])\n",
      "([], [])\n",
      "([], [])\n",
      "([], [])\n",
      "([], [])\n",
      "([], [])\n",
      "([], [])\n",
      "([], [])\n",
      "([], [])\n",
      "([], [])\n",
      "([], [])\n",
      "([], [])\n",
      "([], [])\n",
      "([], [])\n",
      "([], [])\n",
      "([], [])\n",
      "(['naum'], ['na', 'um'])\n",
      "([], [])\n",
      "(['tuis'], ['is', 'tu'])\n",
      "([], [])\n",
      "([], [])\n"
     ]
    }
   ],
   "source": [
    "list_lister(syllableErrors)"
   ]
  },
  {
   "cell_type": "markdown",
   "metadata": {},
   "source": [
    "The following are error analysis results of different configurations of the syllabifier function. The current configuration is \"errorAllDipthongs\" and \"errorJustQU\""
   ]
  },
  {
   "cell_type": "code",
   "execution_count": 15,
   "metadata": {},
   "outputs": [],
   "source": [
    "# ERROR ANALYSIS RESULTS\n",
    "# Testing diphthongs\n",
    "errorAllDiphthongs = [1438, 26, 33]\n",
    "errorNoAE = [1392, 118, 79]\n",
    "errorNoAU = [1434, 40, 37]\n",
    "errorNoEI = [1437, 28, 34]\n",
    "errorNoEU = [1437, 31, 34]\n",
    "errorNoOE = [1435, 32, 36]\n",
    "errorNoUI = [1448, 24, 23]\n",
    "\n",
    "# Testing su and gu consonant pair additions\n",
    "errorJustQU = [1438, 26, 33]\n",
    "errorWithGU = [1433, 29, 38]\n",
    "errorWithSU = [1398, 45, 73]"
   ]
  },
  {
   "cell_type": "code",
   "execution_count": null,
   "metadata": {},
   "outputs": [],
   "source": []
  }
 ],
 "metadata": {
  "kernelspec": {
   "display_name": "Python 3",
   "language": "python",
   "name": "python3"
  },
  "language_info": {
   "codemirror_mode": {
    "name": "ipython",
    "version": 3
   },
   "file_extension": ".py",
   "mimetype": "text/x-python",
   "name": "python",
   "nbconvert_exporter": "python",
   "pygments_lexer": "ipython3",
   "version": "3.5.2"
  }
 },
 "nbformat": 4,
 "nbformat_minor": 2
}
